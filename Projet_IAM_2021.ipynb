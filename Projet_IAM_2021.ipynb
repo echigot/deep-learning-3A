{
 "cells": [
  {
   "cell_type": "code",
   "execution_count": null,
   "metadata": {
    "id": "8ZD_Pf3LWDeq"
   },
   "outputs": [],
   "source": [
    "!git clone https://github.com/axelcarlier/animals.git"
   ]
  },
  {
   "cell_type": "code",
   "execution_count": null,
   "metadata": {
    "id": "qjOUUdsATg7a"
   },
   "outputs": [],
   "source": [
    "import PIL\n",
    "from PIL import Image\n",
    "import numpy as np\n",
    "import os\n",
    "\n",
    "# Chemin vers la base de données\n",
    "path = \"./animals/unlabelled/\"\n",
    "# Indice d'ajout de données dans les variables x et y \n",
    "i = 0\n",
    "# Préparation des structures de données pour x et y\n",
    "x = np.zeros((50000, 64, 64, 3))\n",
    "\n",
    "# Parcours des fichiers (classés) du répertoire\n",
    "dirs = os.listdir(path)\n",
    "\n",
    "for item in dirs:\n",
    "  # Image : on va remplir la variable x\n",
    "  # Lecture de l'image\n",
    "  img = Image.open(path + item)\n",
    "  # Remplissage de la variable x\n",
    "  x[i] = np.asarray(img)\n",
    "  i = i+1\n",
    "\n",
    "x = x.astype('uint8')"
   ]
  },
  {
   "cell_type": "code",
   "execution_count": null,
   "metadata": {
    "id": "npiRBhq_UcXt"
   },
   "outputs": [],
   "source": [
    "# Visualiser la base de données\n",
    "import matplotlib.pyplot as plt\n",
    "from PIL import Image\n",
    "\n",
    "fig = plt.figure(figsize=(15, 10))\n",
    "\n",
    "for i in range(20):\n",
    "  num = np.random.randint(x.shape[0])\n",
    "  plt.subplot(4, 5, i+1)\n",
    "  plt.imshow(x[num]);\n",
    "  plt.axis('off')\n",
    "plt.show()\n"
   ]
  }
 ],
 "metadata": {
  "colab": {
   "name": "Projet IAM 2021.ipynb",
   "provenance": []
  },
  "kernelspec": {
   "display_name": "Python 3",
   "language": "python",
   "name": "python3"
  },
  "language_info": {
   "codemirror_mode": {
    "name": "ipython",
    "version": 3
   },
   "file_extension": ".py",
   "mimetype": "text/x-python",
   "name": "python",
   "nbconvert_exporter": "python",
   "pygments_lexer": "ipython3",
   "version": "3.7.3"
  }
 },
 "nbformat": 4,
 "nbformat_minor": 2
}
